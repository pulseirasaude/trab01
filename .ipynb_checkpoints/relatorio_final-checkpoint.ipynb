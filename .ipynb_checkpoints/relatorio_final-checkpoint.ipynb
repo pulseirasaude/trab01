{
 "cells": [
  {
   "cell_type": "markdown",
   "metadata": {},
   "source": [
    "# Conexão com postgres e Relatorios do Sistema"
   ]
  },
  {
   "cell_type": "markdown",
   "metadata": {},
   "source": [
    "### Usando psycopg2 para configurar conexão"
   ]
  },
  {
   "cell_type": "code",
   "execution_count": 4,
   "metadata": {},
   "outputs": [],
   "source": [
    "conn = psycopg2.connect(host=\"localhost\", database=\"relatorio\", user=\"postgres\", password=\"123\")"
   ]
  },
  {
   "cell_type": "markdown",
   "metadata": {},
   "source": [
    "## Obtendo dados do database com Pandas"
   ]
  },
  {
   "cell_type": "markdown",
   "metadata": {},
   "source": [
    "# Relatório 1"
   ]
  },
  {
   "cell_type": "markdown",
   "metadata": {},
   "source": [
    "### Objetivo: Relatório de veiculos disponíveis incluindo as seguintes informações: id do veiculo, nome do veiculo, categoria do veiculo e status do veiculo.\n"
   ]
  },
  {
   "cell_type": "markdown",
   "metadata": {},
   "source": [
    "Código para obtenção do resultado:"
   ]
  },
  {
   "cell_type": "code",
   "execution_count": 5,
   "metadata": {},
   "outputs": [],
   "source": [
    "test = pd.read_sql_query(\"\"\"\n",
    "                            SELECT VC.ID,VC.PLACA,CV.CATEGORIA,SV.STATUS FROM VEICULO AS VC\n",
    "                            INNER JOIN STATUS_VEICULO AS SV\n",
    "                            ON (SV.ID = VC.ID_STATUS)\n",
    "                            INNER JOIN CATEGORIA_VEICULO AS CV\n",
    "                            ON (CV.ID = VC.ID_CATEGORIA)\n",
    "                            WHERE SV.STATUS = 'DISPONIVEL'\n",
    "                            \"\"\",conn)"
   ]
  },
  {
   "cell_type": "code",
   "execution_count": 6,
   "metadata": {},
   "outputs": [
    {
     "data": {
      "text/html": [
       "<div>\n",
       "<style scoped>\n",
       "    .dataframe tbody tr th:only-of-type {\n",
       "        vertical-align: middle;\n",
       "    }\n",
       "\n",
       "    .dataframe tbody tr th {\n",
       "        vertical-align: top;\n",
       "    }\n",
       "\n",
       "    .dataframe thead th {\n",
       "        text-align: right;\n",
       "    }\n",
       "</style>\n",
       "<table border=\"1\" class=\"dataframe\">\n",
       "  <thead>\n",
       "    <tr style=\"text-align: right;\">\n",
       "      <th></th>\n",
       "      <th>id</th>\n",
       "      <th>placa</th>\n",
       "      <th>categoria</th>\n",
       "      <th>status</th>\n",
       "    </tr>\n",
       "  </thead>\n",
       "  <tbody>\n",
       "    <tr>\n",
       "      <th>0</th>\n",
       "      <td>3</td>\n",
       "      <td>AJH-3703</td>\n",
       "      <td>CAMINHAO</td>\n",
       "      <td>DISPONIVEL</td>\n",
       "    </tr>\n",
       "    <tr>\n",
       "      <th>1</th>\n",
       "      <td>4</td>\n",
       "      <td>MQM-5362</td>\n",
       "      <td>CAMINHAO</td>\n",
       "      <td>DISPONIVEL</td>\n",
       "    </tr>\n",
       "    <tr>\n",
       "      <th>2</th>\n",
       "      <td>5</td>\n",
       "      <td>NDS-5037</td>\n",
       "      <td>CARRO</td>\n",
       "      <td>DISPONIVEL</td>\n",
       "    </tr>\n",
       "    <tr>\n",
       "      <th>3</th>\n",
       "      <td>6</td>\n",
       "      <td>LXT-2999</td>\n",
       "      <td>CARRETA</td>\n",
       "      <td>DISPONIVEL</td>\n",
       "    </tr>\n",
       "  </tbody>\n",
       "</table>\n",
       "</div>"
      ],
      "text/plain": [
       "   id     placa categoria      status\n",
       "0   3  AJH-3703  CAMINHAO  DISPONIVEL\n",
       "1   4  MQM-5362  CAMINHAO  DISPONIVEL\n",
       "2   5  NDS-5037     CARRO  DISPONIVEL\n",
       "3   6  LXT-2999   CARRETA  DISPONIVEL"
      ]
     },
     "execution_count": 6,
     "metadata": {},
     "output_type": "execute_result"
    }
   ],
   "source": [
    "test"
   ]
  },
  {
   "cell_type": "markdown",
   "metadata": {},
   "source": [
    "# Relatório 2"
   ]
  },
  {
   "cell_type": "markdown",
   "metadata": {},
   "source": [
    "### Objetivo: Relatório de motoristas e suas CNHs incluindo as seguintes informações: id do motorista, nome do motorista, numero da cnh, categoria e data de vencimento da mesma."
   ]
  },
  {
   "cell_type": "markdown",
   "metadata": {},
   "source": [
    "codigo para obtenção do resultado:"
   ]
  },
  {
   "cell_type": "code",
   "execution_count": 7,
   "metadata": {},
   "outputs": [],
   "source": [
    "result = pd.read_sql_query(\"\"\"\n",
    "                            SELECT MOT.ID,PESSOA.NOME,MOT.NUMERO_CNH,CATEGORIA_CNH.CATEGORIA,MOT.DATA_VENCIMENTO FROM MOTORISTA AS MOT\n",
    "                            INNER JOIN CATEGORIA_CNH\n",
    "                            ON (CATEGORIA_CNH.ID = MOT.ID_CATEGORIA_CNH)\n",
    "                            INNER JOIN FUNCIONARIO AS FUN\n",
    "                            ON (FUN.ID = MOT.ID_FUNCIONARIO)\n",
    "                            INNER JOIN PESSOA_FISICA\n",
    "                            ON (PESSOA_FISICA.ID = FUN.ID_PESSOA_FISICA)\n",
    "                            INNER JOIN PESSOA\n",
    "                            ON (PESSOA.ID = PESSOA_FISICA.ID_PESSOA)\n",
    "                            \"\"\",conn)"
   ]
  },
  {
   "cell_type": "code",
   "execution_count": 8,
   "metadata": {
    "scrolled": true
   },
   "outputs": [
    {
     "data": {
      "text/html": [
       "<div>\n",
       "<style scoped>\n",
       "    .dataframe tbody tr th:only-of-type {\n",
       "        vertical-align: middle;\n",
       "    }\n",
       "\n",
       "    .dataframe tbody tr th {\n",
       "        vertical-align: top;\n",
       "    }\n",
       "\n",
       "    .dataframe thead th {\n",
       "        text-align: right;\n",
       "    }\n",
       "</style>\n",
       "<table border=\"1\" class=\"dataframe\">\n",
       "  <thead>\n",
       "    <tr style=\"text-align: right;\">\n",
       "      <th></th>\n",
       "      <th>id</th>\n",
       "      <th>nome</th>\n",
       "      <th>numero_cnh</th>\n",
       "      <th>categoria</th>\n",
       "      <th>data_vencimento</th>\n",
       "    </tr>\n",
       "  </thead>\n",
       "  <tbody>\n",
       "    <tr>\n",
       "      <th>0</th>\n",
       "      <td>1</td>\n",
       "      <td>Thales Real</td>\n",
       "      <td>65137192579</td>\n",
       "      <td>AC</td>\n",
       "      <td>2020-10-10</td>\n",
       "    </tr>\n",
       "    <tr>\n",
       "      <th>1</th>\n",
       "      <td>2</td>\n",
       "      <td>Cauã Pires</td>\n",
       "      <td>05808723119</td>\n",
       "      <td>AD</td>\n",
       "      <td>2022-05-10</td>\n",
       "    </tr>\n",
       "    <tr>\n",
       "      <th>2</th>\n",
       "      <td>3</td>\n",
       "      <td>Elias Peixoto</td>\n",
       "      <td>46569685935</td>\n",
       "      <td>BC</td>\n",
       "      <td>2019-09-10</td>\n",
       "    </tr>\n",
       "    <tr>\n",
       "      <th>3</th>\n",
       "      <td>4</td>\n",
       "      <td>Gustavo Araújo</td>\n",
       "      <td>15671759904</td>\n",
       "      <td>BD</td>\n",
       "      <td>2025-09-19</td>\n",
       "    </tr>\n",
       "  </tbody>\n",
       "</table>\n",
       "</div>"
      ],
      "text/plain": [
       "   id            nome   numero_cnh categoria data_vencimento\n",
       "0   1     Thales Real  65137192579        AC      2020-10-10\n",
       "1   2      Cauã Pires  05808723119        AD      2022-05-10\n",
       "2   3   Elias Peixoto  46569685935        BC      2019-09-10\n",
       "3   4  Gustavo Araújo  15671759904        BD      2025-09-19"
      ]
     },
     "execution_count": 8,
     "metadata": {},
     "output_type": "execute_result"
    }
   ],
   "source": [
    "result"
   ]
  },
  {
   "cell_type": "markdown",
   "metadata": {},
   "source": [
    "# Relatório 3"
   ]
  },
  {
   "cell_type": "markdown",
   "metadata": {},
   "source": [
    "### Relatório de salários dos funcionários incluindo as seguintes informações: nome do funcionário, salário do funcionário."
   ]
  },
  {
   "cell_type": "code",
   "execution_count": 9,
   "metadata": {},
   "outputs": [],
   "source": [
    "result3 = pd.read_sql_query(\"\"\"\n",
    "                                SELECT PESSOA.NOME, FUN.SALARIO FROM FUNCIONARIO AS FUN\n",
    "                                INNER JOIN PESSOA_FISICA\n",
    "                                ON (PESSOA_FISICA.ID = FUN.ID_PESSOA_FISICA)\n",
    "                                INNER JOIN PESSOA\n",
    "                                ON (PESSOA.ID = PESSOA_FISICA.ID_PESSOA)\n",
    "                                ORDER BY SALARIO DESC\n",
    "                                \"\"\",conn)"
   ]
  },
  {
   "cell_type": "code",
   "execution_count": 10,
   "metadata": {
    "scrolled": true
   },
   "outputs": [
    {
     "data": {
      "text/html": [
       "<div>\n",
       "<style scoped>\n",
       "    .dataframe tbody tr th:only-of-type {\n",
       "        vertical-align: middle;\n",
       "    }\n",
       "\n",
       "    .dataframe tbody tr th {\n",
       "        vertical-align: top;\n",
       "    }\n",
       "\n",
       "    .dataframe thead th {\n",
       "        text-align: right;\n",
       "    }\n",
       "</style>\n",
       "<table border=\"1\" class=\"dataframe\">\n",
       "  <thead>\n",
       "    <tr style=\"text-align: right;\">\n",
       "      <th></th>\n",
       "      <th>nome</th>\n",
       "      <th>salario</th>\n",
       "    </tr>\n",
       "  </thead>\n",
       "  <tbody>\n",
       "    <tr>\n",
       "      <th>0</th>\n",
       "      <td>Ryan Augusto da Mata</td>\n",
       "      <td>5000.0</td>\n",
       "    </tr>\n",
       "    <tr>\n",
       "      <th>1</th>\n",
       "      <td>Tomás da Cunha</td>\n",
       "      <td>4200.0</td>\n",
       "    </tr>\n",
       "    <tr>\n",
       "      <th>2</th>\n",
       "      <td>Elias Peixoto</td>\n",
       "      <td>3500.0</td>\n",
       "    </tr>\n",
       "    <tr>\n",
       "      <th>3</th>\n",
       "      <td>Thales Real</td>\n",
       "      <td>3300.0</td>\n",
       "    </tr>\n",
       "    <tr>\n",
       "      <th>4</th>\n",
       "      <td>Gustavo Araújo</td>\n",
       "      <td>3000.0</td>\n",
       "    </tr>\n",
       "    <tr>\n",
       "      <th>5</th>\n",
       "      <td>Cauã Pires</td>\n",
       "      <td>2200.0</td>\n",
       "    </tr>\n",
       "  </tbody>\n",
       "</table>\n",
       "</div>"
      ],
      "text/plain": [
       "                   nome  salario\n",
       "0  Ryan Augusto da Mata   5000.0\n",
       "1        Tomás da Cunha   4200.0\n",
       "2         Elias Peixoto   3500.0\n",
       "3           Thales Real   3300.0\n",
       "4        Gustavo Araújo   3000.0\n",
       "5            Cauã Pires   2200.0"
      ]
     },
     "execution_count": 10,
     "metadata": {},
     "output_type": "execute_result"
    }
   ],
   "source": [
    "result3"
   ]
  },
  {
   "cell_type": "markdown",
   "metadata": {},
   "source": [
    "# Relatório 4"
   ]
  },
  {
   "cell_type": "markdown",
   "metadata": {},
   "source": [
    "### Relatório informando a quantidades de serviços por tipo de carga e faturamento de cada tipo incluindo as seguintes informações: tipo da carga e a quantidade de serviços do tipo de carga e valor obtido pelos serviços."
   ]
  },
  {
   "cell_type": "code",
   "execution_count": 14,
   "metadata": {},
   "outputs": [],
   "source": [
    "result4 = pd.read_sql_query(\"\"\"\n",
    "                                SELECT TC.TIPO,COUNT(TRANSPORTE.ID) AS QUANTIDADE_TIPO, SUM(VALOR_CONTRATO)AS FATURAMENTO FROM TRANSPORTE\n",
    "                                INNER JOIN TIPO_CARGA AS TC\n",
    "                                ON (TC.ID = TRANSPORTE.ID_TIPO_CARGA)\n",
    "                                GROUP BY TC.TIPO\n",
    "                                ORDER BY FATURAMENTO DESC\n",
    "                                \"\"\",conn)"
   ]
  },
  {
   "cell_type": "code",
   "execution_count": 15,
   "metadata": {
    "scrolled": true
   },
   "outputs": [
    {
     "data": {
      "text/html": [
       "<div>\n",
       "<style scoped>\n",
       "    .dataframe tbody tr th:only-of-type {\n",
       "        vertical-align: middle;\n",
       "    }\n",
       "\n",
       "    .dataframe tbody tr th {\n",
       "        vertical-align: top;\n",
       "    }\n",
       "\n",
       "    .dataframe thead th {\n",
       "        text-align: right;\n",
       "    }\n",
       "</style>\n",
       "<table border=\"1\" class=\"dataframe\">\n",
       "  <thead>\n",
       "    <tr style=\"text-align: right;\">\n",
       "      <th></th>\n",
       "      <th>tipo</th>\n",
       "      <th>quantidade_tipo</th>\n",
       "      <th>faturamento</th>\n",
       "    </tr>\n",
       "  </thead>\n",
       "  <tbody>\n",
       "    <tr>\n",
       "      <th>0</th>\n",
       "      <td>VEICULO</td>\n",
       "      <td>2</td>\n",
       "      <td>13000.0</td>\n",
       "    </tr>\n",
       "    <tr>\n",
       "      <th>1</th>\n",
       "      <td>FRAGIL</td>\n",
       "      <td>1</td>\n",
       "      <td>7200.0</td>\n",
       "    </tr>\n",
       "    <tr>\n",
       "      <th>2</th>\n",
       "      <td>FRIGORIFICA</td>\n",
       "      <td>2</td>\n",
       "      <td>4500.0</td>\n",
       "    </tr>\n",
       "    <tr>\n",
       "      <th>3</th>\n",
       "      <td>CONSTRUCAO</td>\n",
       "      <td>1</td>\n",
       "      <td>4500.0</td>\n",
       "    </tr>\n",
       "  </tbody>\n",
       "</table>\n",
       "</div>"
      ],
      "text/plain": [
       "          tipo  quantidade_tipo  faturamento\n",
       "0      VEICULO                2      13000.0\n",
       "1       FRAGIL                1       7200.0\n",
       "2  FRIGORIFICA                2       4500.0\n",
       "3   CONSTRUCAO                1       4500.0"
      ]
     },
     "execution_count": 15,
     "metadata": {},
     "output_type": "execute_result"
    }
   ],
   "source": [
    "result4"
   ]
  },
  {
   "cell_type": "code",
   "execution_count": 24,
   "metadata": {
    "scrolled": false
   },
   "outputs": [
    {
     "data": {
      "image/png": "[encoded data removed]",
      "text/plain": [
       "<Figure size 640x480 with 1 Axes>"
      ]
     },
     "metadata": {},
     "output_type": "display_data"
    }
   ],
   "source": [
    "import matplotlib.pyplot as plt; plt.rcdefaults()\n",
    "import numpy as np\n",
    "import matplotlib.pyplot as plt\n",
    "\n",
    "tp = pd.DataFrame(result4)\n",
    "cm = sns.light_palette(\"green\", as_cmap=True)\n",
    "tp.style.background_gradient(cmap=cm)\n",
    " \n",
    "objects = tuple(tp.tipo)\n",
    "y_pos = np.arange(len(objects))\n",
    "performance = list(tp.faturamento)\n",
    " \n",
    "plt.bar(y_pos, performance, align='center', alpha=0.5)\n",
    "plt.xticks(y_pos, objects)\n",
    "plt.ylabel('Faturamento')\n",
    "plt.title('Tipo de Carga')\n",
    " \n",
    "plt.show()"
   ]
  },
  {
   "cell_type": "markdown",
   "metadata": {},
   "source": [
    "# Relatório 5"
   ]
  },
  {
   "cell_type": "markdown",
   "metadata": {},
   "source": [
    "### Relatório de serviço incluindo as seguintes informações: id serviço, cliente , status."
   ]
  },
  {
   "cell_type": "code",
   "execution_count": 56,
   "metadata": {},
   "outputs": [],
   "source": [
    "result5 = pd.read_sql_query(\"\"\"\n",
    "                                SELECT PESSOA.NOME AS NOME_CLIENTE, STATUS_TRANSPORTE.STATUS FROM TRANSPORTE\n",
    "                                INNER JOIN STATUS_TRANSPORTE\n",
    "                                ON(STATUS_TRANSPORTE.ID = TRANSPORTE.ID_STATUS)\n",
    "                                INNER JOIN PESSOA\n",
    "                                ON (PESSOA.ID = TRANSPORTE.ID_CLIENTE)\n",
    "                                ORDER BY STATUS\n",
    "                                \"\"\",conn)"
   ]
  },
  {
   "cell_type": "code",
   "execution_count": 57,
   "metadata": {
    "scrolled": true
   },
   "outputs": [
    {
     "data": {
      "text/html": [
       "<div>\n",
       "<style scoped>\n",
       "    .dataframe tbody tr th:only-of-type {\n",
       "        vertical-align: middle;\n",
       "    }\n",
       "\n",
       "    .dataframe tbody tr th {\n",
       "        vertical-align: top;\n",
       "    }\n",
       "\n",
       "    .dataframe thead th {\n",
       "        text-align: right;\n",
       "    }\n",
       "</style>\n",
       "<table border=\"1\" class=\"dataframe\">\n",
       "  <thead>\n",
       "    <tr style=\"text-align: right;\">\n",
       "      <th></th>\n",
       "      <th>nome_cliente</th>\n",
       "      <th>status</th>\n",
       "    </tr>\n",
       "  </thead>\n",
       "  <tbody>\n",
       "    <tr>\n",
       "      <th>0</th>\n",
       "      <td>Davi e Helena Entulhos ME</td>\n",
       "      <td>CANCELADO</td>\n",
       "    </tr>\n",
       "    <tr>\n",
       "      <th>1</th>\n",
       "      <td>Davi e Helena Entulhos ME</td>\n",
       "      <td>CONCLUIDO</td>\n",
       "    </tr>\n",
       "    <tr>\n",
       "      <th>2</th>\n",
       "      <td>Teresinha e Esther Adega Ltda</td>\n",
       "      <td>CONCLUIDO</td>\n",
       "    </tr>\n",
       "    <tr>\n",
       "      <th>3</th>\n",
       "      <td>Luzia e Malu Telecomunicações ME</td>\n",
       "      <td>CONCLUIDO</td>\n",
       "    </tr>\n",
       "    <tr>\n",
       "      <th>4</th>\n",
       "      <td>Emilly e Rebeca Padaria Ltda</td>\n",
       "      <td>EM ANDAMENTO</td>\n",
       "    </tr>\n",
       "    <tr>\n",
       "      <th>5</th>\n",
       "      <td>Davi e Helena Entulhos ME</td>\n",
       "      <td>EM ANDAMENTO</td>\n",
       "    </tr>\n",
       "  </tbody>\n",
       "</table>\n",
       "</div>"
      ],
      "text/plain": [
       "                       nome_cliente        status\n",
       "0         Davi e Helena Entulhos ME     CANCELADO\n",
       "1         Davi e Helena Entulhos ME     CONCLUIDO\n",
       "2     Teresinha e Esther Adega Ltda     CONCLUIDO\n",
       "3  Luzia e Malu Telecomunicações ME     CONCLUIDO\n",
       "4      Emilly e Rebeca Padaria Ltda  EM ANDAMENTO\n",
       "5         Davi e Helena Entulhos ME  EM ANDAMENTO"
      ]
     },
     "execution_count": 57,
     "metadata": {},
     "output_type": "execute_result"
    }
   ],
   "source": [
    "result5"
   ]
  },
  {
   "cell_type": "markdown",
   "metadata": {},
   "source": [
    "# Relatório 6"
   ]
  },
  {
   "cell_type": "markdown",
   "metadata": {},
   "source": [
    "### Relatório de veículos indisponíveis:"
   ]
  },
  {
   "cell_type": "code",
   "execution_count": 20,
   "metadata": {},
   "outputs": [],
   "source": [
    "result6 = pd.read_sql_query(\"\"\"\n",
    "                                SELECT VEICULO.NOME AS VEICULOS_INDISPONIVEIS, STATUS_VEICULO.STATUS FROM VEICULO\n",
    "                                INNER JOIN STATUS_VEICULO\n",
    "                                ON (VEICULO.ID_STATUS = STATUS_VEICULO.ID)\n",
    "                                WHERE STATUS LIKE 'MANUTENCAO' OR STATUS LIKE 'EM TRANSPORTE';\n",
    "                                \"\"\",conn)"
   ]
  },
  {
   "cell_type": "code",
   "execution_count": 21,
   "metadata": {},
   "outputs": [
    {
     "data": {
      "text/html": [
       "<div>\n",
       "<style scoped>\n",
       "    .dataframe tbody tr th:only-of-type {\n",
       "        vertical-align: middle;\n",
       "    }\n",
       "\n",
       "    .dataframe tbody tr th {\n",
       "        vertical-align: top;\n",
       "    }\n",
       "\n",
       "    .dataframe thead th {\n",
       "        text-align: right;\n",
       "    }\n",
       "</style>\n",
       "<table border=\"1\" class=\"dataframe\">\n",
       "  <thead>\n",
       "    <tr style=\"text-align: right;\">\n",
       "      <th></th>\n",
       "      <th>veiculos_indisponiveis</th>\n",
       "      <th>status</th>\n",
       "    </tr>\n",
       "  </thead>\n",
       "  <tbody>\n",
       "    <tr>\n",
       "      <th>0</th>\n",
       "      <td>Tempest</td>\n",
       "      <td>MANUTENCAO</td>\n",
       "    </tr>\n",
       "    <tr>\n",
       "      <th>1</th>\n",
       "      <td>Storm</td>\n",
       "      <td>MANUTENCAO</td>\n",
       "    </tr>\n",
       "    <tr>\n",
       "      <th>2</th>\n",
       "      <td>Caçador de Bruxas</td>\n",
       "      <td>EM TRANSPORTE</td>\n",
       "    </tr>\n",
       "    <tr>\n",
       "      <th>3</th>\n",
       "      <td>Vermelinho</td>\n",
       "      <td>EM TRANSPORTE</td>\n",
       "    </tr>\n",
       "    <tr>\n",
       "      <th>4</th>\n",
       "      <td>Rosinha</td>\n",
       "      <td>EM TRANSPORTE</td>\n",
       "    </tr>\n",
       "    <tr>\n",
       "      <th>5</th>\n",
       "      <td>Soha</td>\n",
       "      <td>EM TRANSPORTE</td>\n",
       "    </tr>\n",
       "  </tbody>\n",
       "</table>\n",
       "</div>"
      ],
      "text/plain": [
       "  veiculos_indisponiveis         status\n",
       "0                Tempest     MANUTENCAO\n",
       "1                  Storm     MANUTENCAO\n",
       "2      Caçador de Bruxas  EM TRANSPORTE\n",
       "3             Vermelinho  EM TRANSPORTE\n",
       "4                Rosinha  EM TRANSPORTE\n",
       "5                   Soha  EM TRANSPORTE"
      ]
     },
     "execution_count": 21,
     "metadata": {},
     "output_type": "execute_result"
    }
   ],
   "source": [
    "result6"
   ]
  },
  {
   "cell_type": "markdown",
   "metadata": {},
   "source": [
    "# Relatório 7"
   ]
  },
  {
   "cell_type": "markdown",
   "metadata": {},
   "source": [
    "### Relatório de quantidade de serviços por status:"
   ]
  },
  {
   "cell_type": "code",
   "execution_count": 22,
   "metadata": {},
   "outputs": [],
   "source": [
    "result7 = pd.read_sql_query(\"\"\"\n",
    "                                SELECT STATUS_TRANSPORTE.STATUS, COUNT(STATUS_TRANSPORTE.STATUS) AS QNT_STATUS FROM TRANSPORTE\n",
    "                                INNER JOIN STATUS_TRANSPORTE\n",
    "                                ON (TRANSPORTE.ID_STATUS = STATUS_TRANSPORTE.ID)\n",
    "                                GROUP BY (STATUS_TRANSPORTE.STATUS)\n",
    "                                ORDER BY QNT_STATUS;\n",
    "                                \"\"\",conn)"
   ]
  },
  {
   "cell_type": "code",
   "execution_count": 23,
   "metadata": {},
   "outputs": [
    {
     "data": {
      "text/html": [
       "<div>\n",
       "<style scoped>\n",
       "    .dataframe tbody tr th:only-of-type {\n",
       "        vertical-align: middle;\n",
       "    }\n",
       "\n",
       "    .dataframe tbody tr th {\n",
       "        vertical-align: top;\n",
       "    }\n",
       "\n",
       "    .dataframe thead th {\n",
       "        text-align: right;\n",
       "    }\n",
       "</style>\n",
       "<table border=\"1\" class=\"dataframe\">\n",
       "  <thead>\n",
       "    <tr style=\"text-align: right;\">\n",
       "      <th></th>\n",
       "      <th>status</th>\n",
       "      <th>qnt_status</th>\n",
       "    </tr>\n",
       "  </thead>\n",
       "  <tbody>\n",
       "    <tr>\n",
       "      <th>0</th>\n",
       "      <td>CANCELADO</td>\n",
       "      <td>1</td>\n",
       "    </tr>\n",
       "    <tr>\n",
       "      <th>1</th>\n",
       "      <td>EM ANDAMENTO</td>\n",
       "      <td>2</td>\n",
       "    </tr>\n",
       "    <tr>\n",
       "      <th>2</th>\n",
       "      <td>CONCLUIDO</td>\n",
       "      <td>3</td>\n",
       "    </tr>\n",
       "  </tbody>\n",
       "</table>\n",
       "</div>"
      ],
      "text/plain": [
       "         status  qnt_status\n",
       "0     CANCELADO           1\n",
       "1  EM ANDAMENTO           2\n",
       "2     CONCLUIDO           3"
      ]
     },
     "execution_count": 23,
     "metadata": {},
     "output_type": "execute_result"
    }
   ],
   "source": [
    "result7"
   ]
  },
  {
   "cell_type": "code",
   "execution_count": 26,
   "metadata": {},
   "outputs": [
    {
     "data": {
      "image/png": "[encoded data removed]",
      "text/plain": [
       "<Figure size 640x480 with 1 Axes>"
      ]
     },
     "metadata": {},
     "output_type": "display_data"
    }
   ],
   "source": [
    "sq = pd.DataFrame(result7)\n",
    "cm = sns.light_palette(\"green\", as_cmap=True)\n",
    "tp.style.background_gradient(cmap=cm)\n",
    " \n",
    "objects = tuple(sq.status)\n",
    "y_pos = np.arange(len(objects))\n",
    "performance = list(sq.qnt_status)\n",
    " \n",
    "plt.bar(y_pos, performance, align='center', alpha=0.5)\n",
    "plt.xticks(y_pos, objects)\n",
    "plt.ylabel('Quantidade Status')\n",
    "plt.title('Status')\n",
    " \n",
    "plt.show()"
   ]
  },
  {
   "cell_type": "markdown",
   "metadata": {},
   "source": [
    "# Relatório 8"
   ]
  },
  {
   "cell_type": "markdown",
   "metadata": {},
   "source": [
    "### Relatório de cliente com mais contratos:"
   ]
  },
  {
   "cell_type": "code",
   "execution_count": 34,
   "metadata": {},
   "outputs": [],
   "source": [
    "result8 = pd.read_sql_query(\"\"\"\n",
    "                                SELECT PESSOA.NOME AS CLIENTE, COUNT(PESSOA.NOME) AS NUMERO_DE_CONTRATOS FROM TRANSPORTE\n",
    "                                INNER JOIN PESSOA\n",
    "                                ON (TRANSPORTE.ID_CLIENTE = PESSOA.ID)\n",
    "                                GROUP BY PESSOA.NOME\n",
    "                                ORDER BY COUNT(PESSOA.NOME) DESC;\n",
    "                                \"\"\",conn)"
   ]
  },
  {
   "cell_type": "code",
   "execution_count": 35,
   "metadata": {},
   "outputs": [
    {
     "data": {
      "text/html": [
       "<div>\n",
       "<style scoped>\n",
       "    .dataframe tbody tr th:only-of-type {\n",
       "        vertical-align: middle;\n",
       "    }\n",
       "\n",
       "    .dataframe tbody tr th {\n",
       "        vertical-align: top;\n",
       "    }\n",
       "\n",
       "    .dataframe thead th {\n",
       "        text-align: right;\n",
       "    }\n",
       "</style>\n",
       "<table border=\"1\" class=\"dataframe\">\n",
       "  <thead>\n",
       "    <tr style=\"text-align: right;\">\n",
       "      <th></th>\n",
       "      <th>cliente</th>\n",
       "      <th>numero_de_contratos</th>\n",
       "    </tr>\n",
       "  </thead>\n",
       "  <tbody>\n",
       "    <tr>\n",
       "      <th>0</th>\n",
       "      <td>Davi e Helena Entulhos ME</td>\n",
       "      <td>3</td>\n",
       "    </tr>\n",
       "    <tr>\n",
       "      <th>1</th>\n",
       "      <td>Emilly e Rebeca Padaria Ltda</td>\n",
       "      <td>1</td>\n",
       "    </tr>\n",
       "    <tr>\n",
       "      <th>2</th>\n",
       "      <td>Luzia e Malu Telecomunicações ME</td>\n",
       "      <td>1</td>\n",
       "    </tr>\n",
       "    <tr>\n",
       "      <th>3</th>\n",
       "      <td>Teresinha e Esther Adega Ltda</td>\n",
       "      <td>1</td>\n",
       "    </tr>\n",
       "  </tbody>\n",
       "</table>\n",
       "</div>"
      ],
      "text/plain": [
       "                            cliente  numero_de_contratos\n",
       "0         Davi e Helena Entulhos ME                    3\n",
       "1      Emilly e Rebeca Padaria Ltda                    1\n",
       "2  Luzia e Malu Telecomunicações ME                    1\n",
       "3     Teresinha e Esther Adega Ltda                    1"
      ]
     },
     "execution_count": 35,
     "metadata": {},
     "output_type": "execute_result"
    }
   ],
   "source": [
    "result8"
   ]
  },
  {
   "cell_type": "markdown",
   "metadata": {},
   "source": [
    "# Referencias"
   ]
  },
  {
   "cell_type": "markdown",
   "metadata": {},
   "source": [
    "https://pandas.pydata.org/pandas-docs/stable/style.html <br>\n",
    "https://pythonspot.com/matplotlib-bar-chart/<br>\n",
    "https://pandas.pydata.org/pandas-docs/stable/generated/pandas.DataFrame.loc.html <br>"
   ]
  }
 ],
 "metadata": {
  "kernelspec": {
   "display_name": "Python 3",
   "language": "python",
   "name": "python3"
  },
  "language_info": {
   "codemirror_mode": {
    "name": "ipython",
    "version": 3
   },
   "file_extension": ".py",
   "mimetype": "text/x-python",
   "name": "python",
   "nbconvert_exporter": "python",
   "pygments_lexer": "ipython3",
   "version": "3.7.1"
  }
 },
 "nbformat": 4,
 "nbformat_minor": 2
}
